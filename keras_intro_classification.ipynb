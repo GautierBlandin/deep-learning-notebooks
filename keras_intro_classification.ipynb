{
  "nbformat": 4,
  "nbformat_minor": 0,
  "metadata": {
    "colab": {
      "name": "keras_intro_classification.ipynb",
      "provenance": [],
      "toc_visible": true,
      "authorship_tag": "ABX9TyPBA7qZ0zAtepdN8RgmFkA6",
      "include_colab_link": true
    },
    "kernelspec": {
      "name": "python3",
      "display_name": "Python 3"
    },
    "language_info": {
      "name": "python"
    }
  },
  "cells": [
    {
      "cell_type": "markdown",
      "metadata": {
        "id": "view-in-github",
        "colab_type": "text"
      },
      "source": [
        "<a href=\"https://colab.research.google.com/github/GautierBlandin/deep-learning-notebooks/blob/main/keras_intro_classification.ipynb\" target=\"_parent\"><img src=\"https://colab.research.google.com/assets/colab-badge.svg\" alt=\"Open In Colab\"/></a>"
      ]
    },
    {
      "cell_type": "markdown",
      "source": [
        "# Doawnload and Preprocess the dataset"
      ],
      "metadata": {
        "id": "MX083qz7Op5L"
      }
    },
    {
      "cell_type": "code",
      "execution_count": null,
      "metadata": {
        "colab": {
          "base_uri": "https://localhost:8080/"
        },
        "id": "f1A3v98a-xb1",
        "outputId": "cc528ee5-2fe8-4a00-dee8-76d47002c128"
      },
      "outputs": [
        {
          "output_type": "stream",
          "name": "stdout",
          "text": [
            "Downloading data from https://storage.googleapis.com/tensorflow/tf-keras-datasets/train-labels-idx1-ubyte.gz\n",
            "32768/29515 [=================================] - 0s 0us/step\n",
            "40960/29515 [=========================================] - 0s 0us/step\n",
            "Downloading data from https://storage.googleapis.com/tensorflow/tf-keras-datasets/train-images-idx3-ubyte.gz\n",
            "26427392/26421880 [==============================] - 0s 0us/step\n",
            "26435584/26421880 [==============================] - 0s 0us/step\n",
            "Downloading data from https://storage.googleapis.com/tensorflow/tf-keras-datasets/t10k-labels-idx1-ubyte.gz\n",
            "16384/5148 [===============================================================================================] - 0s 0us/step\n",
            "Downloading data from https://storage.googleapis.com/tensorflow/tf-keras-datasets/t10k-images-idx3-ubyte.gz\n",
            "4423680/4422102 [==============================] - 0s 0us/step\n",
            "4431872/4422102 [==============================] - 0s 0us/step\n"
          ]
        }
      ],
      "source": [
        "# Download the Fashion MINST dataset\n",
        "\n",
        "import tensorflow as tf\n",
        "from tensorflow import keras\n",
        "\n",
        "fashion_mnist = keras.datasets.fashion_mnist\n",
        "(X_train_full, y_train_full), (X_test, y_test) = fashion_mnist.load_data()"
      ]
    },
    {
      "cell_type": "code",
      "source": [
        "# MinMax Scale using sklearn preprocessing\n",
        "\n",
        "from sklearn.preprocessing import MinMaxScaler\n",
        "\n",
        "X_train_reshaped = X_train_full.reshape((len(X_train_full), 784))\n",
        "\n",
        "scaler = MinMaxScaler()\n",
        "X_train_scaled = scaler.fit_transform(X_train_reshaped).reshape((60000, 28, 28))"
      ],
      "metadata": {
        "id": "oXW_twgW_c5r"
      },
      "execution_count": null,
      "outputs": []
    },
    {
      "cell_type": "code",
      "source": [
        "# View an image from the dataset \n",
        "import matplotlib.pyplot as plt\n",
        "\n",
        "plt.imshow(X_train_scaled[2])"
      ],
      "metadata": {
        "colab": {
          "base_uri": "https://localhost:8080/",
          "height": 282
        },
        "id": "S9T17zw1CYEB",
        "outputId": "3f9b2d9e-ed9f-4d63-8a74-21bdbb819f03"
      },
      "execution_count": null,
      "outputs": [
        {
          "output_type": "execute_result",
          "data": {
            "text/plain": [
              "<matplotlib.image.AxesImage at 0x7f55720b7d90>"
            ]
          },
          "metadata": {},
          "execution_count": 3
        },
        {
          "output_type": "display_data",
          "data": {
            "text/plain": [
              "<Figure size 432x288 with 1 Axes>"
            ],
            "image/png": "[encoded data removed]"
          },
          "metadata": {
            "needs_background": "light"
          }
        }
      ]
    },
    {
      "cell_type": "code",
      "source": [
        "# Split the set into train/validation using sklearn\n",
        "\n",
        "from sklearn.model_selection import train_test_split\n",
        "\n",
        "X_train, X_val, y_train, y_val = train_test_split(X_train_scaled, y_train_full, test_size = 0.2, random_state = 42)"
      ],
      "metadata": {
        "id": "1ON4LmBpCmyn"
      },
      "execution_count": null,
      "outputs": []
    },
    {
      "cell_type": "markdown",
      "source": [
        "# Create and use a deep learning model"
      ],
      "metadata": {
        "id": "gHt-cFq8O18R"
      }
    },
    {
      "cell_type": "code",
      "source": [
        "# Create a sequential deep learning model using keras\n",
        "\n",
        "model = keras.models.Sequential()\n",
        "model.add(keras.layers.Flatten(input_shape=[28, 28]))\n",
        "model.add(keras.layers.Dense(300, activation = \"relu\"))\n",
        "model.add(keras.layers.Dense(100, activation = \"relu\"))\n",
        "model.add(keras.layers.Dense(10, activation = \"softmax\"))"
      ],
      "metadata": {
        "id": "nZ0Pf6iODg_3"
      },
      "execution_count": null,
      "outputs": []
    },
    {
      "cell_type": "code",
      "source": [
        "# See a summary of the model\n",
        "\n",
        "model.summary()"
      ],
      "metadata": {
        "id": "ZzcIh-Q7Ogfa"
      },
      "execution_count": null,
      "outputs": []
    },
    {
      "cell_type": "code",
      "source": [
        "# Get a list of the model's layers\n",
        "\n",
        "model.layers"
      ],
      "metadata": {
        "id": "UFIdH_OYPkdf"
      },
      "execution_count": null,
      "outputs": []
    },
    {
      "cell_type": "code",
      "source": [
        "# Compile the model to specify the loss function and the optimizer to use.\n",
        "\n",
        "model.compile(loss=\"sparse_categorical_crossentropy\", optimizer=\"sgd\",\n",
        "              metrics=[\"accuracy\"])"
      ],
      "metadata": {
        "id": "DFASbwO4PqQn"
      },
      "execution_count": null,
      "outputs": []
    },
    {
      "cell_type": "code",
      "source": [
        "# Train the model and see its performance on the training set\n",
        "\n",
        "history = model.fit(X_train, y_train, epochs=30, validation_data=(X_val, y_val))"
      ],
      "metadata": {
        "colab": {
          "base_uri": "https://localhost:8080/"
        },
        "id": "6VB_uGLUQSIk",
        "outputId": "31e8e16f-0888-400e-cf08-e2f3899b2774"
      },
      "execution_count": null,
      "outputs": [
        {
          "output_type": "stream",
          "name": "stdout",
          "text": [
            "Epoch 1/30\n",
            "1500/1500 [==============================] - 7s 4ms/step - loss: 0.7474 - accuracy: 0.7549 - val_loss: 0.5393 - val_accuracy: 0.8128\n",
            "Epoch 2/30\n",
            "1500/1500 [==============================] - 6s 4ms/step - loss: 0.4968 - accuracy: 0.8287 - val_loss: 0.4956 - val_accuracy: 0.8246\n",
            "Epoch 3/30\n",
            "1500/1500 [==============================] - 6s 4ms/step - loss: 0.4511 - accuracy: 0.8428 - val_loss: 0.4457 - val_accuracy: 0.8415\n",
            "Epoch 4/30\n",
            "1500/1500 [==============================] - 6s 4ms/step - loss: 0.4220 - accuracy: 0.8518 - val_loss: 0.4135 - val_accuracy: 0.8553\n",
            "Epoch 5/30\n",
            "1500/1500 [==============================] - 6s 4ms/step - loss: 0.4012 - accuracy: 0.8595 - val_loss: 0.4044 - val_accuracy: 0.8572\n",
            "Epoch 6/30\n",
            "1500/1500 [==============================] - 6s 4ms/step - loss: 0.3855 - accuracy: 0.8644 - val_loss: 0.3916 - val_accuracy: 0.8627\n",
            "Epoch 7/30\n",
            "1500/1500 [==============================] - 6s 4ms/step - loss: 0.3722 - accuracy: 0.8688 - val_loss: 0.3908 - val_accuracy: 0.8610\n",
            "Epoch 8/30\n",
            "1500/1500 [==============================] - 6s 4ms/step - loss: 0.3608 - accuracy: 0.8721 - val_loss: 0.3798 - val_accuracy: 0.8648\n",
            "Epoch 9/30\n",
            "1500/1500 [==============================] - 6s 4ms/step - loss: 0.3497 - accuracy: 0.8755 - val_loss: 0.3695 - val_accuracy: 0.8705\n",
            "Epoch 10/30\n",
            "1500/1500 [==============================] - 6s 4ms/step - loss: 0.3400 - accuracy: 0.8800 - val_loss: 0.3544 - val_accuracy: 0.8753\n",
            "Epoch 11/30\n",
            "1500/1500 [==============================] - 6s 4ms/step - loss: 0.3314 - accuracy: 0.8822 - val_loss: 0.3589 - val_accuracy: 0.8728\n",
            "Epoch 12/30\n",
            "1500/1500 [==============================] - 6s 4ms/step - loss: 0.3229 - accuracy: 0.8854 - val_loss: 0.3568 - val_accuracy: 0.8724\n",
            "Epoch 13/30\n",
            "1500/1500 [==============================] - 6s 4ms/step - loss: 0.3167 - accuracy: 0.8862 - val_loss: 0.3585 - val_accuracy: 0.8692\n",
            "Epoch 14/30\n",
            "1500/1500 [==============================] - 6s 4ms/step - loss: 0.3077 - accuracy: 0.8901 - val_loss: 0.3424 - val_accuracy: 0.8792\n",
            "Epoch 15/30\n",
            "1500/1500 [==============================] - 6s 4ms/step - loss: 0.3025 - accuracy: 0.8917 - val_loss: 0.3564 - val_accuracy: 0.8717\n",
            "Epoch 16/30\n",
            "1500/1500 [==============================] - 6s 4ms/step - loss: 0.2968 - accuracy: 0.8930 - val_loss: 0.3307 - val_accuracy: 0.8833\n",
            "Epoch 17/30\n",
            "1500/1500 [==============================] - 6s 4ms/step - loss: 0.2907 - accuracy: 0.8958 - val_loss: 0.3333 - val_accuracy: 0.8796\n",
            "Epoch 18/30\n",
            "1500/1500 [==============================] - 6s 4ms/step - loss: 0.2848 - accuracy: 0.8980 - val_loss: 0.3288 - val_accuracy: 0.8832\n",
            "Epoch 19/30\n",
            "1500/1500 [==============================] - 7s 4ms/step - loss: 0.2793 - accuracy: 0.8989 - val_loss: 0.3277 - val_accuracy: 0.8830\n",
            "Epoch 20/30\n",
            "1500/1500 [==============================] - 6s 4ms/step - loss: 0.2746 - accuracy: 0.9012 - val_loss: 0.3199 - val_accuracy: 0.8884\n",
            "Epoch 21/30\n",
            "1500/1500 [==============================] - 6s 4ms/step - loss: 0.2689 - accuracy: 0.9026 - val_loss: 0.3229 - val_accuracy: 0.8838\n",
            "Epoch 22/30\n",
            "1500/1500 [==============================] - 6s 4ms/step - loss: 0.2651 - accuracy: 0.9032 - val_loss: 0.3355 - val_accuracy: 0.8792\n",
            "Epoch 23/30\n",
            "1500/1500 [==============================] - 6s 4ms/step - loss: 0.2603 - accuracy: 0.9068 - val_loss: 0.3277 - val_accuracy: 0.8805\n",
            "Epoch 24/30\n",
            "1500/1500 [==============================] - 6s 4ms/step - loss: 0.2561 - accuracy: 0.9090 - val_loss: 0.3163 - val_accuracy: 0.8869\n",
            "Epoch 25/30\n",
            "1500/1500 [==============================] - 6s 4ms/step - loss: 0.2513 - accuracy: 0.9091 - val_loss: 0.3337 - val_accuracy: 0.8801\n",
            "Epoch 26/30\n",
            "1500/1500 [==============================] - 6s 4ms/step - loss: 0.2473 - accuracy: 0.9102 - val_loss: 0.3220 - val_accuracy: 0.8852\n",
            "Epoch 27/30\n",
            "1500/1500 [==============================] - 6s 4ms/step - loss: 0.2422 - accuracy: 0.9131 - val_loss: 0.3275 - val_accuracy: 0.8834\n",
            "Epoch 28/30\n",
            "1500/1500 [==============================] - 6s 4ms/step - loss: 0.2391 - accuracy: 0.9136 - val_loss: 0.3150 - val_accuracy: 0.8880\n",
            "Epoch 29/30\n",
            "1500/1500 [==============================] - 6s 4ms/step - loss: 0.2356 - accuracy: 0.9160 - val_loss: 0.3137 - val_accuracy: 0.8873\n",
            "Epoch 30/30\n",
            "1500/1500 [==============================] - 6s 4ms/step - loss: 0.2312 - accuracy: 0.9169 - val_loss: 0.3118 - val_accuracy: 0.8871\n"
          ]
        }
      ]
    },
    {
      "cell_type": "code",
      "source": [
        "# Visualize the performance of the model throughout its training\n",
        "\n",
        "import pandas as pd\n",
        "import matplotlib.pyplot as plt\n",
        "\n",
        "pd.DataFrame(history.history).plot(figsize=(16,10))\n",
        "plt.grid(True)\n",
        "plt.gca().set_ylim(0, 1) # set the vertical range to [0 - 1]\n",
        "plt.show()"
      ],
      "metadata": {
        "colab": {
          "base_uri": "https://localhost:8080/",
          "height": 596
        },
        "id": "xKYQxZljSQ1t",
        "outputId": "432c413d-7ee7-45cd-a229-49ece27a9252"
      },
      "execution_count": null,
      "outputs": [
        {
          "output_type": "display_data",
          "data": {
            "text/plain": [
              "<Figure size 1152x720 with 1 Axes>"
            ],
            "image/png": "[encoded data removed]"
          },
          "metadata": {
            "needs_background": "light"
          }
        }
      ]
    },
    {
      "cell_type": "code",
      "source": [
        "# Evaluate the model on the training set\n",
        "\n",
        "model.evaluate(X_test, y_test)"
      ],
      "metadata": {
        "colab": {
          "base_uri": "https://localhost:8080/"
        },
        "id": "uimMCwQBTN4G",
        "outputId": "70ab357d-672a-4655-df87-03c6845a2762"
      },
      "execution_count": null,
      "outputs": [
        {
          "output_type": "stream",
          "name": "stdout",
          "text": [
            "313/313 [==============================] - 1s 3ms/step - loss: 70.2536 - accuracy: 0.8371\n"
          ]
        },
        {
          "output_type": "execute_result",
          "data": {
            "text/plain": [
              "[70.25360870361328, 0.8371000289916992]"
            ]
          },
          "metadata": {},
          "execution_count": 16
        }
      ]
    }
  ]
}