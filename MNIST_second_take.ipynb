{
  "nbformat": 4,
  "nbformat_minor": 0,
  "metadata": {
    "colab": {
      "name": "MNIST_second_take.ipynb",
      "provenance": [],
      "authorship_tag": "ABX9TyMl3HV5FMKszwJZT2vesEBz",
      "include_colab_link": true
    },
    "kernelspec": {
      "name": "python3",
      "display_name": "Python 3"
    },
    "language_info": {
      "name": "python"
    }
  },
  "cells": [
    {
      "cell_type": "markdown",
      "metadata": {
        "id": "view-in-github",
        "colab_type": "text"
      },
      "source": [
        "<a href=\"https://colab.research.google.com/github/GautierBlandin/deep-learning-notebooks/blob/main/MNIST_second_take.ipynb\" target=\"_parent\"><img src=\"https://colab.research.google.com/assets/colab-badge.svg\" alt=\"Open In Colab\"/></a>"
      ]
    },
    {
      "cell_type": "code",
      "execution_count": 12,
      "metadata": {
        "id": "-N_btwuMJ1Vx"
      },
      "outputs": [],
      "source": [
        "import tensorflow as tf\n",
        "import tensorflow.keras as keras\n",
        "\n",
        "(x_train, y_train), (x_test, y_test) = keras.datasets.mnist.load_data()"
      ]
    },
    {
      "cell_type": "code",
      "source": [
        "x_train = x_train.reshape([x_train.shape[0], 28, 28, 1])\n",
        "x_test = x_test.reshape([x_test.shape[0], 28, 28, 1])"
      ],
      "metadata": {
        "id": "R3n8fpWIpamC"
      },
      "execution_count": 15,
      "outputs": []
    },
    {
      "cell_type": "code",
      "source": [
        "# specify the width and height shift arguments\n",
        "width_shift_val = 0.2\n",
        "height_shift_val = 0.2\n",
        "\n",
        "# import relevant library\n",
        "from tensorflow.keras.preprocessing.image import ImageDataGenerator\n",
        "\n",
        "datagen = ImageDataGenerator(\n",
        "    featurewise_std_normalization=True,\n",
        "    featurewise_center = True,\n",
        "    rotation_range=10,\n",
        "    validation_split = 0.1,\n",
        "    width_shift_range=width_shift_val, \n",
        "    height_shift_range=height_shift_val\n",
        "    )\n",
        "\n",
        "datagen.fit(x_train)\n",
        "\n",
        "train_generator = datagen.flow(x_train, y_train, batch_size=32, subset='training')\n",
        "validation_generator = datagen.flow(x_train, y_train, batch_size=32, subset='validation')"
      ],
      "metadata": {
        "id": "RGTd87iiZTEM"
      },
      "execution_count": 3,
      "outputs": []
    },
    {
      "cell_type": "code",
      "source": [
        "from sklearn.preprocessing import StandardScaler \n",
        "\n",
        "scaler = StandardScaler()\n",
        "\n",
        "x_test = scaler.fit_transform(x_test.reshape([len(x_test), 28 * 28])).reshape([len(x_test), 28, 28, 1])"
      ],
      "metadata": {
        "id": "Y01ysrKlZxeb"
      },
      "execution_count": 10,
      "outputs": []
    },
    {
      "cell_type": "code",
      "source": [
        "from tensorflow.keras.preprocessing.image import ImageDataGenerator\n",
        "\n",
        "datagen = ImageDataGenerator(\n",
        "    featurewise_std_normalization=True,\n",
        "    featurewise_center = True\n",
        "    )\n",
        "\n",
        "datagen.fit(x_test)\n",
        "\n",
        "test_generator = datagen.flow(x_test, y_test, batch_size = 32)"
      ],
      "metadata": {
        "id": "6COC_HJAaVzP"
      },
      "execution_count": 17,
      "outputs": []
    },
    {
      "cell_type": "code",
      "source": [
        "model = keras.Sequential()\n",
        "model.add(keras.layers.Flatten(input_shape=[28, 28, 1]))\n",
        "model.add(keras.layers.Dense(500, activation = \"selu\", kernel_initializer='lecun_normal'))\n",
        "model.add(keras.layers.Dense(300, activation = \"selu\", kernel_initializer='lecun_normal'))\n",
        "model.add(keras.layers.Dense(200, activation = \"selu\", kernel_initializer='lecun_normal'))\n",
        "model.add(keras.layers.Dense(200, activation = \"selu\", kernel_initializer='lecun_normal'))\n",
        "model.add(keras.layers.Dense(100, activation = \"selu\", kernel_initializer='lecun_normal'))\n",
        "model.add(keras.layers.Dense(100, activation = \"selu\", kernel_initializer='lecun_normal'))\n",
        "model.add(keras.layers.Dense(10, activation = \"softmax\"))"
      ],
      "metadata": {
        "id": "4294DEhBLvO-"
      },
      "execution_count": 4,
      "outputs": []
    },
    {
      "cell_type": "code",
      "source": [
        "# Compile the model to specify the loss function and the optimizer to use.\n",
        "\n",
        "optimizer = tf.keras.optimizers.Nadam(\n",
        "    learning_rate=0.001,\n",
        "    beta_1=0.9,\n",
        "    beta_2=0.999,\n",
        "    epsilon=1e-07,\n",
        "    name='Nadam'\n",
        ")\n",
        "\n",
        "model.compile(loss=\"sparse_categorical_crossentropy\", optimizer=optimizer,\n",
        "              metrics=[\"accuracy\"])"
      ],
      "metadata": {
        "id": "rhCnyxB7MqmB"
      },
      "execution_count": 5,
      "outputs": []
    },
    {
      "cell_type": "code",
      "source": [
        "early_stopping_cb = keras.callbacks.EarlyStopping(patience = 20)\n",
        "checkpoint_cb = keras.callbacks.ModelCheckpoint(\"mnist_model.h5\", save_best_only=True)\n",
        "\n",
        "history = model.fit(train_generator, validation_data = validation_generator, batch_size = 32, epochs=200, callbacks=[checkpoint_cb, early_stopping_cb])"
      ],
      "metadata": {
        "colab": {
          "base_uri": "https://localhost:8080/"
        },
        "id": "ulY83MOcNVdF",
        "outputId": "0e96c696-c285-4d3c-9eaf-76079fe4290c"
      },
      "execution_count": 6,
      "outputs": [
        {
          "output_type": "stream",
          "name": "stdout",
          "text": [
            "Epoch 1/200\n",
            "1688/1688 [==============================] - 47s 27ms/step - loss: 0.7104 - accuracy: 0.7709 - val_loss: 0.4565 - val_accuracy: 0.8632\n",
            "Epoch 2/200\n",
            "1688/1688 [==============================] - 43s 26ms/step - loss: 0.4044 - accuracy: 0.8726 - val_loss: 0.3419 - val_accuracy: 0.8938\n",
            "Epoch 3/200\n",
            "1688/1688 [==============================] - 44s 26ms/step - loss: 0.3283 - accuracy: 0.8978 - val_loss: 0.2620 - val_accuracy: 0.9222\n",
            "Epoch 4/200\n",
            "1688/1688 [==============================] - 44s 26ms/step - loss: 0.2916 - accuracy: 0.9101 - val_loss: 0.2489 - val_accuracy: 0.9238\n",
            "Epoch 5/200\n",
            "1688/1688 [==============================] - 45s 26ms/step - loss: 0.2665 - accuracy: 0.9191 - val_loss: 0.2334 - val_accuracy: 0.9302\n",
            "Epoch 6/200\n",
            "1688/1688 [==============================] - 43s 26ms/step - loss: 0.2438 - accuracy: 0.9266 - val_loss: 0.2419 - val_accuracy: 0.9263\n",
            "Epoch 7/200\n",
            "1688/1688 [==============================] - 43s 26ms/step - loss: 0.2256 - accuracy: 0.9314 - val_loss: 0.2034 - val_accuracy: 0.9382\n",
            "Epoch 8/200\n",
            "1688/1688 [==============================] - 45s 26ms/step - loss: 0.2132 - accuracy: 0.9366 - val_loss: 0.1941 - val_accuracy: 0.9455\n",
            "Epoch 9/200\n",
            "1688/1688 [==============================] - 44s 26ms/step - loss: 0.2034 - accuracy: 0.9402 - val_loss: 0.1836 - val_accuracy: 0.9455\n",
            "Epoch 10/200\n",
            "1688/1688 [==============================] - 45s 27ms/step - loss: 0.1931 - accuracy: 0.9428 - val_loss: 0.1761 - val_accuracy: 0.9477\n",
            "Epoch 11/200\n",
            "1688/1688 [==============================] - 46s 27ms/step - loss: 0.1806 - accuracy: 0.9464 - val_loss: 0.1553 - val_accuracy: 0.9540\n",
            "Epoch 12/200\n",
            "1688/1688 [==============================] - 48s 28ms/step - loss: 0.1819 - accuracy: 0.9469 - val_loss: 0.1597 - val_accuracy: 0.9530\n",
            "Epoch 13/200\n",
            "1688/1688 [==============================] - 46s 27ms/step - loss: 0.1716 - accuracy: 0.9508 - val_loss: 0.1771 - val_accuracy: 0.9515\n",
            "Epoch 14/200\n",
            "1688/1688 [==============================] - 46s 27ms/step - loss: 0.1671 - accuracy: 0.9510 - val_loss: 0.1670 - val_accuracy: 0.9522\n",
            "Epoch 15/200\n",
            "1688/1688 [==============================] - 46s 28ms/step - loss: 0.1610 - accuracy: 0.9531 - val_loss: 0.1463 - val_accuracy: 0.9580\n",
            "Epoch 16/200\n",
            "1688/1688 [==============================] - 47s 28ms/step - loss: 0.1555 - accuracy: 0.9547 - val_loss: 0.1497 - val_accuracy: 0.9600\n",
            "Epoch 17/200\n",
            "1688/1688 [==============================] - 46s 27ms/step - loss: 0.1762 - accuracy: 0.9524 - val_loss: 0.1405 - val_accuracy: 0.9615\n",
            "Epoch 18/200\n",
            "1688/1688 [==============================] - 47s 28ms/step - loss: 0.1446 - accuracy: 0.9574 - val_loss: 0.1370 - val_accuracy: 0.9643\n",
            "Epoch 19/200\n",
            "1688/1688 [==============================] - 48s 28ms/step - loss: 0.1424 - accuracy: 0.9583 - val_loss: 0.1430 - val_accuracy: 0.9608\n",
            "Epoch 20/200\n",
            "1688/1688 [==============================] - 46s 27ms/step - loss: 0.1458 - accuracy: 0.9572 - val_loss: 0.1316 - val_accuracy: 0.9633\n",
            "Epoch 21/200\n",
            "1688/1688 [==============================] - 46s 27ms/step - loss: 0.7459 - accuracy: 0.9330 - val_loss: 0.2223 - val_accuracy: 0.9392\n",
            "Epoch 22/200\n",
            "1688/1688 [==============================] - 45s 27ms/step - loss: 0.1852 - accuracy: 0.9449 - val_loss: 0.1713 - val_accuracy: 0.9547\n",
            "Epoch 23/200\n",
            "1688/1688 [==============================] - 45s 27ms/step - loss: 0.1562 - accuracy: 0.9537 - val_loss: 0.1553 - val_accuracy: 0.9577\n",
            "Epoch 24/200\n",
            "1688/1688 [==============================] - 45s 27ms/step - loss: 0.1488 - accuracy: 0.9570 - val_loss: 0.1399 - val_accuracy: 0.9588\n",
            "Epoch 25/200\n",
            "1688/1688 [==============================] - 46s 27ms/step - loss: 0.1403 - accuracy: 0.9602 - val_loss: 0.1302 - val_accuracy: 0.9633\n",
            "Epoch 26/200\n",
            "1688/1688 [==============================] - 45s 27ms/step - loss: 0.1396 - accuracy: 0.9599 - val_loss: 0.1428 - val_accuracy: 0.9615\n",
            "Epoch 27/200\n",
            "1688/1688 [==============================] - 45s 27ms/step - loss: 0.1411 - accuracy: 0.9593 - val_loss: 0.1351 - val_accuracy: 0.9638\n",
            "Epoch 28/200\n",
            "1688/1688 [==============================] - 46s 27ms/step - loss: 0.1425 - accuracy: 0.9589 - val_loss: 0.1343 - val_accuracy: 0.9628\n",
            "Epoch 29/200\n",
            "1688/1688 [==============================] - 44s 26ms/step - loss: 0.1443 - accuracy: 0.9609 - val_loss: 0.1510 - val_accuracy: 0.9615\n",
            "Epoch 30/200\n",
            "1688/1688 [==============================] - 44s 26ms/step - loss: 0.1368 - accuracy: 0.9616 - val_loss: 0.1190 - val_accuracy: 0.9662\n",
            "Epoch 31/200\n",
            "1688/1688 [==============================] - 44s 26ms/step - loss: 0.1344 - accuracy: 0.9632 - val_loss: 0.1364 - val_accuracy: 0.9648\n",
            "Epoch 32/200\n",
            "1688/1688 [==============================] - 44s 26ms/step - loss: 0.1345 - accuracy: 0.9627 - val_loss: 0.1202 - val_accuracy: 0.9660\n",
            "Epoch 33/200\n",
            "1688/1688 [==============================] - 44s 26ms/step - loss: 0.1265 - accuracy: 0.9645 - val_loss: 0.1222 - val_accuracy: 0.9643\n",
            "Epoch 34/200\n",
            "1688/1688 [==============================] - 44s 26ms/step - loss: 1.0114 - accuracy: 0.9522 - val_loss: 0.2042 - val_accuracy: 0.9545\n",
            "Epoch 35/200\n",
            "1688/1688 [==============================] - 45s 27ms/step - loss: 0.1390 - accuracy: 0.9607 - val_loss: 0.1295 - val_accuracy: 0.9647\n",
            "Epoch 36/200\n",
            "1688/1688 [==============================] - 45s 26ms/step - loss: 0.1206 - accuracy: 0.9666 - val_loss: 0.1176 - val_accuracy: 0.9668\n",
            "Epoch 37/200\n",
            "1688/1688 [==============================] - 45s 27ms/step - loss: 0.1176 - accuracy: 0.9671 - val_loss: 0.1079 - val_accuracy: 0.9707\n",
            "Epoch 38/200\n",
            "1688/1688 [==============================] - 44s 26ms/step - loss: 0.1203 - accuracy: 0.9660 - val_loss: 0.1192 - val_accuracy: 0.9655\n",
            "Epoch 39/200\n",
            "1688/1688 [==============================] - 44s 26ms/step - loss: 0.1184 - accuracy: 0.9659 - val_loss: 0.1185 - val_accuracy: 0.9668\n",
            "Epoch 40/200\n",
            "1688/1688 [==============================] - 44s 26ms/step - loss: 0.1227 - accuracy: 0.9652 - val_loss: 0.1182 - val_accuracy: 0.9668\n",
            "Epoch 41/200\n",
            "1688/1688 [==============================] - 44s 26ms/step - loss: 0.1256 - accuracy: 0.9654 - val_loss: 0.1179 - val_accuracy: 0.9677\n",
            "Epoch 42/200\n",
            "1688/1688 [==============================] - 44s 26ms/step - loss: 0.1202 - accuracy: 0.9664 - val_loss: 0.1277 - val_accuracy: 0.9640\n",
            "Epoch 43/200\n",
            "1688/1688 [==============================] - 43s 26ms/step - loss: 0.1224 - accuracy: 0.9666 - val_loss: 0.1215 - val_accuracy: 0.9673\n",
            "Epoch 44/200\n",
            "1688/1688 [==============================] - 44s 26ms/step - loss: 0.1217 - accuracy: 0.9663 - val_loss: 0.1105 - val_accuracy: 0.9718\n",
            "Epoch 45/200\n",
            "1688/1688 [==============================] - 44s 26ms/step - loss: 0.1176 - accuracy: 0.9667 - val_loss: 0.1310 - val_accuracy: 0.9665\n",
            "Epoch 46/200\n",
            "1688/1688 [==============================] - 44s 26ms/step - loss: 0.1213 - accuracy: 0.9663 - val_loss: 0.1158 - val_accuracy: 0.9693\n",
            "Epoch 47/200\n",
            "1688/1688 [==============================] - 43s 26ms/step - loss: 0.1168 - accuracy: 0.9671 - val_loss: 0.1068 - val_accuracy: 0.9690\n",
            "Epoch 48/200\n",
            "1688/1688 [==============================] - 44s 26ms/step - loss: 0.1158 - accuracy: 0.9679 - val_loss: 0.1176 - val_accuracy: 0.9705\n",
            "Epoch 49/200\n",
            "1688/1688 [==============================] - 43s 26ms/step - loss: 0.1148 - accuracy: 0.9685 - val_loss: 0.1097 - val_accuracy: 0.9715\n",
            "Epoch 50/200\n",
            "1688/1688 [==============================] - 44s 26ms/step - loss: 0.1155 - accuracy: 0.9686 - val_loss: 0.1048 - val_accuracy: 0.9700\n",
            "Epoch 51/200\n",
            "1688/1688 [==============================] - 44s 26ms/step - loss: 0.1105 - accuracy: 0.9693 - val_loss: 0.1237 - val_accuracy: 0.9673\n",
            "Epoch 52/200\n",
            "1688/1688 [==============================] - 43s 26ms/step - loss: 0.1123 - accuracy: 0.9694 - val_loss: 0.1249 - val_accuracy: 0.9662\n",
            "Epoch 53/200\n",
            "1688/1688 [==============================] - 43s 25ms/step - loss: 0.1118 - accuracy: 0.9703 - val_loss: 0.1091 - val_accuracy: 0.9713\n",
            "Epoch 54/200\n",
            "1688/1688 [==============================] - 43s 25ms/step - loss: 0.1622 - accuracy: 0.9704 - val_loss: 0.1113 - val_accuracy: 0.9722\n",
            "Epoch 55/200\n",
            "1688/1688 [==============================] - 45s 26ms/step - loss: 0.0996 - accuracy: 0.9726 - val_loss: 0.0993 - val_accuracy: 0.9732\n",
            "Epoch 56/200\n",
            "1688/1688 [==============================] - 44s 26ms/step - loss: 0.1052 - accuracy: 0.9719 - val_loss: 0.0940 - val_accuracy: 0.9742\n",
            "Epoch 57/200\n",
            "1688/1688 [==============================] - 44s 26ms/step - loss: 0.1064 - accuracy: 0.9726 - val_loss: 0.1012 - val_accuracy: 0.9733\n",
            "Epoch 58/200\n",
            "1688/1688 [==============================] - 44s 26ms/step - loss: 0.1021 - accuracy: 0.9729 - val_loss: 0.1014 - val_accuracy: 0.9738\n",
            "Epoch 59/200\n",
            "1688/1688 [==============================] - 43s 26ms/step - loss: 0.1012 - accuracy: 0.9720 - val_loss: 0.1028 - val_accuracy: 0.9745\n",
            "Epoch 60/200\n",
            "1688/1688 [==============================] - 44s 26ms/step - loss: 0.1080 - accuracy: 0.9717 - val_loss: 0.0946 - val_accuracy: 0.9753\n",
            "Epoch 61/200\n",
            "1688/1688 [==============================] - 44s 26ms/step - loss: 0.1058 - accuracy: 0.9718 - val_loss: 0.1006 - val_accuracy: 0.9733\n",
            "Epoch 62/200\n",
            "1688/1688 [==============================] - 43s 26ms/step - loss: 0.1034 - accuracy: 0.9715 - val_loss: 0.1249 - val_accuracy: 0.9667\n",
            "Epoch 63/200\n",
            "1688/1688 [==============================] - 44s 26ms/step - loss: 0.1047 - accuracy: 0.9715 - val_loss: 0.1221 - val_accuracy: 0.9710\n",
            "Epoch 64/200\n",
            "1688/1688 [==============================] - 44s 26ms/step - loss: 0.1882 - accuracy: 0.9681 - val_loss: 0.1097 - val_accuracy: 0.9722\n",
            "Epoch 65/200\n",
            "1688/1688 [==============================] - 44s 26ms/step - loss: 0.1011 - accuracy: 0.9724 - val_loss: 0.0905 - val_accuracy: 0.9753\n",
            "Epoch 66/200\n",
            "1688/1688 [==============================] - 44s 26ms/step - loss: 0.1005 - accuracy: 0.9736 - val_loss: 0.1080 - val_accuracy: 0.9715\n",
            "Epoch 67/200\n",
            "1688/1688 [==============================] - 44s 26ms/step - loss: 0.0981 - accuracy: 0.9730 - val_loss: 0.1130 - val_accuracy: 0.9715\n",
            "Epoch 68/200\n",
            "1688/1688 [==============================] - 44s 26ms/step - loss: 4.5930 - accuracy: 0.9706 - val_loss: 0.1850 - val_accuracy: 0.9540\n",
            "Epoch 69/200\n",
            "1688/1688 [==============================] - 44s 26ms/step - loss: 0.5106 - accuracy: 0.9617 - val_loss: 0.1186 - val_accuracy: 0.9688\n",
            "Epoch 70/200\n",
            "1688/1688 [==============================] - 44s 26ms/step - loss: 0.1102 - accuracy: 0.9693 - val_loss: 0.1100 - val_accuracy: 0.9703\n",
            "Epoch 71/200\n",
            "1688/1688 [==============================] - 44s 26ms/step - loss: 0.1036 - accuracy: 0.9718 - val_loss: 0.1090 - val_accuracy: 0.9735\n",
            "Epoch 72/200\n",
            "1688/1688 [==============================] - 43s 26ms/step - loss: 0.0968 - accuracy: 0.9731 - val_loss: 0.0908 - val_accuracy: 0.9743\n",
            "Epoch 73/200\n",
            "1688/1688 [==============================] - 45s 27ms/step - loss: 0.0967 - accuracy: 0.9727 - val_loss: 0.0963 - val_accuracy: 0.9762\n",
            "Epoch 74/200\n",
            "1688/1688 [==============================] - 44s 26ms/step - loss: 0.0956 - accuracy: 0.9740 - val_loss: 0.1060 - val_accuracy: 0.9738\n",
            "Epoch 75/200\n",
            "1688/1688 [==============================] - 44s 26ms/step - loss: 0.1045 - accuracy: 0.9726 - val_loss: 0.0908 - val_accuracy: 0.9778\n",
            "Epoch 76/200\n",
            "1688/1688 [==============================] - 43s 26ms/step - loss: 0.1014 - accuracy: 0.9733 - val_loss: 0.0898 - val_accuracy: 0.9743\n",
            "Epoch 77/200\n",
            "1688/1688 [==============================] - 44s 26ms/step - loss: 0.1033 - accuracy: 0.9724 - val_loss: 0.0875 - val_accuracy: 0.9778\n",
            "Epoch 78/200\n",
            "1688/1688 [==============================] - 44s 26ms/step - loss: 0.1017 - accuracy: 0.9726 - val_loss: 0.1326 - val_accuracy: 0.9663\n",
            "Epoch 79/200\n",
            "1688/1688 [==============================] - 44s 26ms/step - loss: 0.1061 - accuracy: 0.9724 - val_loss: 0.1095 - val_accuracy: 0.9715\n",
            "Epoch 80/200\n",
            "1688/1688 [==============================] - 44s 26ms/step - loss: 0.1042 - accuracy: 0.9726 - val_loss: 0.1080 - val_accuracy: 0.9718\n",
            "Epoch 81/200\n",
            "1688/1688 [==============================] - 45s 26ms/step - loss: 0.1017 - accuracy: 0.9724 - val_loss: 0.1083 - val_accuracy: 0.9718\n",
            "Epoch 82/200\n",
            "1688/1688 [==============================] - 44s 26ms/step - loss: 0.1010 - accuracy: 0.9738 - val_loss: 0.1247 - val_accuracy: 0.9693\n",
            "Epoch 83/200\n",
            "1688/1688 [==============================] - 43s 26ms/step - loss: 0.1114 - accuracy: 0.9719 - val_loss: 0.1106 - val_accuracy: 0.9698\n",
            "Epoch 84/200\n",
            "1688/1688 [==============================] - 44s 26ms/step - loss: 0.1045 - accuracy: 0.9735 - val_loss: 0.1668 - val_accuracy: 0.9608\n",
            "Epoch 85/200\n",
            "1688/1688 [==============================] - 44s 26ms/step - loss: 0.1037 - accuracy: 0.9727 - val_loss: 0.1130 - val_accuracy: 0.9732\n",
            "Epoch 86/200\n",
            "1688/1688 [==============================] - 43s 25ms/step - loss: 0.0980 - accuracy: 0.9745 - val_loss: 0.1129 - val_accuracy: 0.9703\n",
            "Epoch 87/200\n",
            "1688/1688 [==============================] - 44s 26ms/step - loss: 0.1677 - accuracy: 0.9732 - val_loss: 0.0972 - val_accuracy: 0.9760\n",
            "Epoch 88/200\n",
            "1688/1688 [==============================] - 44s 26ms/step - loss: 0.0965 - accuracy: 0.9747 - val_loss: 0.0969 - val_accuracy: 0.9762\n",
            "Epoch 89/200\n",
            "1688/1688 [==============================] - 44s 26ms/step - loss: 0.0939 - accuracy: 0.9751 - val_loss: 0.0863 - val_accuracy: 0.9780\n",
            "Epoch 90/200\n",
            "1688/1688 [==============================] - 43s 26ms/step - loss: 0.0943 - accuracy: 0.9746 - val_loss: 0.1095 - val_accuracy: 0.9708\n",
            "Epoch 91/200\n",
            "1688/1688 [==============================] - 43s 26ms/step - loss: 0.0966 - accuracy: 0.9755 - val_loss: 0.1003 - val_accuracy: 0.9780\n",
            "Epoch 92/200\n",
            "1688/1688 [==============================] - 44s 26ms/step - loss: 0.0982 - accuracy: 0.9743 - val_loss: 0.1008 - val_accuracy: 0.9773\n",
            "Epoch 93/200\n",
            "1688/1688 [==============================] - 44s 26ms/step - loss: 0.0947 - accuracy: 0.9756 - val_loss: 0.1081 - val_accuracy: 0.9743\n",
            "Epoch 94/200\n",
            "1688/1688 [==============================] - 43s 26ms/step - loss: 0.1015 - accuracy: 0.9736 - val_loss: 0.0919 - val_accuracy: 0.9777\n",
            "Epoch 95/200\n",
            "1688/1688 [==============================] - 43s 26ms/step - loss: 0.0997 - accuracy: 0.9737 - val_loss: 0.1166 - val_accuracy: 0.9710\n",
            "Epoch 96/200\n",
            "1688/1688 [==============================] - 44s 26ms/step - loss: 0.1011 - accuracy: 0.9746 - val_loss: 0.1089 - val_accuracy: 0.9760\n",
            "Epoch 97/200\n",
            "1688/1688 [==============================] - 43s 26ms/step - loss: 0.0963 - accuracy: 0.9746 - val_loss: 0.1114 - val_accuracy: 0.9735\n",
            "Epoch 98/200\n",
            "1688/1688 [==============================] - 43s 26ms/step - loss: 0.1016 - accuracy: 0.9733 - val_loss: 0.1129 - val_accuracy: 0.9727\n",
            "Epoch 99/200\n",
            "1688/1688 [==============================] - 43s 26ms/step - loss: 0.0932 - accuracy: 0.9751 - val_loss: 0.0970 - val_accuracy: 0.9788\n",
            "Epoch 100/200\n",
            "1688/1688 [==============================] - 43s 25ms/step - loss: 0.0989 - accuracy: 0.9744 - val_loss: 0.1017 - val_accuracy: 0.9730\n",
            "Epoch 101/200\n",
            "1688/1688 [==============================] - 44s 26ms/step - loss: 0.1093 - accuracy: 0.9749 - val_loss: 0.1034 - val_accuracy: 0.9773\n",
            "Epoch 102/200\n",
            "1688/1688 [==============================] - 43s 26ms/step - loss: 0.1078 - accuracy: 0.9746 - val_loss: 0.0913 - val_accuracy: 0.9760\n",
            "Epoch 103/200\n",
            "1688/1688 [==============================] - 44s 26ms/step - loss: 9.2184 - accuracy: 0.9745 - val_loss: 0.1542 - val_accuracy: 0.9637\n",
            "Epoch 104/200\n",
            "1688/1688 [==============================] - 45s 26ms/step - loss: 0.1223 - accuracy: 0.9739 - val_loss: 0.1047 - val_accuracy: 0.9727\n",
            "Epoch 105/200\n",
            "1688/1688 [==============================] - 44s 26ms/step - loss: 0.1395 - accuracy: 0.9754 - val_loss: 0.1013 - val_accuracy: 0.9737\n",
            "Epoch 106/200\n",
            "1688/1688 [==============================] - 45s 26ms/step - loss: 0.0889 - accuracy: 0.9763 - val_loss: 0.0886 - val_accuracy: 0.9772\n",
            "Epoch 107/200\n",
            "1688/1688 [==============================] - 44s 26ms/step - loss: 0.0873 - accuracy: 0.9779 - val_loss: 0.0943 - val_accuracy: 0.9767\n",
            "Epoch 108/200\n",
            "1688/1688 [==============================] - 44s 26ms/step - loss: 0.0901 - accuracy: 0.9767 - val_loss: 0.0915 - val_accuracy: 0.9785\n",
            "Epoch 109/200\n",
            "1688/1688 [==============================] - 44s 26ms/step - loss: 0.0906 - accuracy: 0.9766 - val_loss: 0.0857 - val_accuracy: 0.9783\n",
            "Epoch 110/200\n",
            "1688/1688 [==============================] - 44s 26ms/step - loss: 0.0894 - accuracy: 0.9765 - val_loss: 0.1090 - val_accuracy: 0.9733\n",
            "Epoch 111/200\n",
            "1688/1688 [==============================] - 44s 26ms/step - loss: 0.0957 - accuracy: 0.9761 - val_loss: 0.1025 - val_accuracy: 0.9732\n",
            "Epoch 112/200\n",
            "1688/1688 [==============================] - 44s 26ms/step - loss: 0.0999 - accuracy: 0.9748 - val_loss: 0.0852 - val_accuracy: 0.9802\n",
            "Epoch 113/200\n",
            "1688/1688 [==============================] - 44s 26ms/step - loss: 0.0933 - accuracy: 0.9759 - val_loss: 0.1044 - val_accuracy: 0.9737\n",
            "Epoch 114/200\n",
            "1688/1688 [==============================] - 45s 27ms/step - loss: 0.0956 - accuracy: 0.9755 - val_loss: 0.1256 - val_accuracy: 0.9720\n",
            "Epoch 115/200\n",
            "1688/1688 [==============================] - 44s 26ms/step - loss: 0.0936 - accuracy: 0.9759 - val_loss: 0.1092 - val_accuracy: 0.9740\n",
            "Epoch 116/200\n",
            "1688/1688 [==============================] - 44s 26ms/step - loss: 0.0972 - accuracy: 0.9757 - val_loss: 0.1021 - val_accuracy: 0.9762\n",
            "Epoch 117/200\n",
            "1688/1688 [==============================] - 44s 26ms/step - loss: 0.0955 - accuracy: 0.9758 - val_loss: 0.0924 - val_accuracy: 0.9778\n",
            "Epoch 118/200\n",
            "1688/1688 [==============================] - 45s 27ms/step - loss: 0.0935 - accuracy: 0.9770 - val_loss: 0.1023 - val_accuracy: 0.9762\n",
            "Epoch 119/200\n",
            "1688/1688 [==============================] - 45s 26ms/step - loss: 0.0958 - accuracy: 0.9756 - val_loss: 0.1175 - val_accuracy: 0.9718\n",
            "Epoch 120/200\n",
            "1688/1688 [==============================] - 45s 27ms/step - loss: 0.0924 - accuracy: 0.9758 - val_loss: 0.1022 - val_accuracy: 0.9758\n",
            "Epoch 121/200\n",
            "1688/1688 [==============================] - 45s 26ms/step - loss: 1.1429 - accuracy: 0.9729 - val_loss: 0.0925 - val_accuracy: 0.9767\n",
            "Epoch 122/200\n",
            "1688/1688 [==============================] - 45s 27ms/step - loss: 0.0919 - accuracy: 0.9765 - val_loss: 0.0875 - val_accuracy: 0.9780\n",
            "Epoch 123/200\n",
            "1688/1688 [==============================] - 44s 26ms/step - loss: 0.0819 - accuracy: 0.9787 - val_loss: 0.0912 - val_accuracy: 0.9778\n",
            "Epoch 124/200\n",
            "1688/1688 [==============================] - 44s 26ms/step - loss: 0.0810 - accuracy: 0.9795 - val_loss: 0.0933 - val_accuracy: 0.9773\n",
            "Epoch 125/200\n",
            "1688/1688 [==============================] - 45s 27ms/step - loss: 0.0859 - accuracy: 0.9778 - val_loss: 0.1071 - val_accuracy: 0.9765\n",
            "Epoch 126/200\n",
            "1688/1688 [==============================] - 45s 26ms/step - loss: 0.0903 - accuracy: 0.9772 - val_loss: 0.2092 - val_accuracy: 0.9765\n",
            "Epoch 127/200\n",
            "1688/1688 [==============================] - 44s 26ms/step - loss: 0.0908 - accuracy: 0.9774 - val_loss: 0.1063 - val_accuracy: 0.9752\n",
            "Epoch 128/200\n",
            "1688/1688 [==============================] - 45s 26ms/step - loss: 0.0879 - accuracy: 0.9775 - val_loss: 0.0920 - val_accuracy: 0.9783\n",
            "Epoch 129/200\n",
            "1688/1688 [==============================] - 45s 26ms/step - loss: 0.0987 - accuracy: 0.9759 - val_loss: 0.1269 - val_accuracy: 0.9778\n",
            "Epoch 130/200\n",
            "1688/1688 [==============================] - 44s 26ms/step - loss: 0.0898 - accuracy: 0.9776 - val_loss: 0.0908 - val_accuracy: 0.9783\n",
            "Epoch 131/200\n",
            "1688/1688 [==============================] - 44s 26ms/step - loss: 0.0930 - accuracy: 0.9761 - val_loss: 0.1084 - val_accuracy: 0.9750\n",
            "Epoch 132/200\n",
            "1688/1688 [==============================] - 45s 27ms/step - loss: 0.0875 - accuracy: 0.9780 - val_loss: 0.0801 - val_accuracy: 0.9807\n",
            "Epoch 133/200\n",
            "1688/1688 [==============================] - 45s 27ms/step - loss: 0.0882 - accuracy: 0.9777 - val_loss: 0.1097 - val_accuracy: 0.9758\n",
            "Epoch 134/200\n",
            "1688/1688 [==============================] - 45s 27ms/step - loss: 0.0869 - accuracy: 0.9780 - val_loss: 0.1009 - val_accuracy: 0.9768\n",
            "Epoch 135/200\n",
            "1688/1688 [==============================] - 45s 27ms/step - loss: 0.0950 - accuracy: 0.9762 - val_loss: 0.1081 - val_accuracy: 0.9712\n",
            "Epoch 136/200\n",
            "1688/1688 [==============================] - 45s 27ms/step - loss: 0.0998 - accuracy: 0.9751 - val_loss: 0.1057 - val_accuracy: 0.9728\n",
            "Epoch 137/200\n",
            "1688/1688 [==============================] - 45s 27ms/step - loss: 0.0877 - accuracy: 0.9776 - val_loss: 0.1370 - val_accuracy: 0.9770\n",
            "Epoch 138/200\n",
            "1688/1688 [==============================] - 45s 27ms/step - loss: 0.0885 - accuracy: 0.9780 - val_loss: 0.1116 - val_accuracy: 0.9757\n",
            "Epoch 139/200\n",
            "1688/1688 [==============================] - 45s 27ms/step - loss: 0.0881 - accuracy: 0.9778 - val_loss: 0.1010 - val_accuracy: 0.9755\n",
            "Epoch 140/200\n",
            "1688/1688 [==============================] - 44s 26ms/step - loss: 0.0979 - accuracy: 0.9766 - val_loss: 2.0553 - val_accuracy: 0.9770\n",
            "Epoch 141/200\n",
            "1688/1688 [==============================] - 44s 26ms/step - loss: 1.6588 - accuracy: 0.9747 - val_loss: 0.0888 - val_accuracy: 0.9782\n",
            "Epoch 142/200\n",
            "1688/1688 [==============================] - 45s 26ms/step - loss: 0.0878 - accuracy: 0.9777 - val_loss: 0.0986 - val_accuracy: 0.9765\n",
            "Epoch 143/200\n",
            "1688/1688 [==============================] - 45s 27ms/step - loss: 0.0862 - accuracy: 0.9789 - val_loss: 0.0932 - val_accuracy: 0.9797\n",
            "Epoch 144/200\n",
            "1688/1688 [==============================] - 45s 26ms/step - loss: 0.0822 - accuracy: 0.9795 - val_loss: 0.0804 - val_accuracy: 0.9818\n",
            "Epoch 145/200\n",
            "1688/1688 [==============================] - 46s 27ms/step - loss: 0.0833 - accuracy: 0.9782 - val_loss: 0.0841 - val_accuracy: 0.9797\n",
            "Epoch 146/200\n",
            "1688/1688 [==============================] - 45s 27ms/step - loss: 0.0825 - accuracy: 0.9797 - val_loss: 0.0986 - val_accuracy: 0.9757\n",
            "Epoch 147/200\n",
            "1688/1688 [==============================] - 46s 27ms/step - loss: 0.0875 - accuracy: 0.9780 - val_loss: 0.0955 - val_accuracy: 0.9775\n",
            "Epoch 148/200\n",
            "1688/1688 [==============================] - 46s 27ms/step - loss: 0.1454 - accuracy: 0.9773 - val_loss: 0.0998 - val_accuracy: 0.9758\n",
            "Epoch 149/200\n",
            "1688/1688 [==============================] - 46s 27ms/step - loss: 0.0850 - accuracy: 0.9785 - val_loss: 0.0929 - val_accuracy: 0.9780\n",
            "Epoch 150/200\n",
            "1688/1688 [==============================] - 46s 27ms/step - loss: 0.0823 - accuracy: 0.9794 - val_loss: 0.1011 - val_accuracy: 0.9778\n",
            "Epoch 151/200\n",
            "1688/1688 [==============================] - 44s 26ms/step - loss: 0.0815 - accuracy: 0.9793 - val_loss: 0.0986 - val_accuracy: 0.9777\n",
            "Epoch 152/200\n",
            "1688/1688 [==============================] - 45s 26ms/step - loss: 0.1406 - accuracy: 0.9797 - val_loss: 0.1272 - val_accuracy: 0.9685\n"
          ]
        }
      ]
    },
    {
      "cell_type": "code",
      "source": [
        "model = keras.models.load_model(\"mnist_model.h5\")\n",
        "model.evaluate(test_generator)"
      ],
      "metadata": {
        "colab": {
          "base_uri": "https://localhost:8080/"
        },
        "id": "pAQXm_MyWHqu",
        "outputId": "80d40b58-4dfc-4b34-9201-e640e2636829"
      },
      "execution_count": 18,
      "outputs": [
        {
          "output_type": "stream",
          "name": "stdout",
          "text": [
            "313/313 [==============================] - 2s 5ms/step - loss: 0.0657 - accuracy: 0.9828\n"
          ]
        },
        {
          "output_type": "execute_result",
          "data": {
            "text/plain": [
              "[0.06573978811502457, 0.9828000068664551]"
            ]
          },
          "metadata": {},
          "execution_count": 18
        }
      ]
    },
    {
      "cell_type": "code",
      "source": [
        "from google.colab import files\n",
        "files.download('mnist_model.h5')"
      ],
      "metadata": {
        "colab": {
          "base_uri": "https://localhost:8080/",
          "height": 17
        },
        "id": "8RHq4CxgcTv-",
        "outputId": "39d27791-ffb1-477a-d29e-2e892ebddfae"
      },
      "execution_count": 19,
      "outputs": [
        {
          "output_type": "display_data",
          "data": {
            "text/plain": [
              "<IPython.core.display.Javascript object>"
            ],
            "application/javascript": [
              "\n",
              "    async function download(id, filename, size) {\n",
              "      if (!google.colab.kernel.accessAllowed) {\n",
              "        return;\n",
              "      }\n",
              "      const div = document.createElement('div');\n",
              "      const label = document.createElement('label');\n",
              "      label.textContent = `Downloading \"${filename}\": `;\n",
              "      div.appendChild(label);\n",
              "      const progress = document.createElement('progress');\n",
              "      progress.max = size;\n",
              "      div.appendChild(progress);\n",
              "      document.body.appendChild(div);\n",
              "\n",
              "      const buffers = [];\n",
              "      let downloaded = 0;\n",
              "\n",
              "      const channel = await google.colab.kernel.comms.open(id);\n",
              "      // Send a message to notify the kernel that we're ready.\n",
              "      channel.send({})\n",
              "\n",
              "      for await (const message of channel.messages) {\n",
              "        // Send a message to notify the kernel that we're ready.\n",
              "        channel.send({})\n",
              "        if (message.buffers) {\n",
              "          for (const buffer of message.buffers) {\n",
              "            buffers.push(buffer);\n",
              "            downloaded += buffer.byteLength;\n",
              "            progress.value = downloaded;\n",
              "          }\n",
              "        }\n",
              "      }\n",
              "      const blob = new Blob(buffers, {type: 'application/binary'});\n",
              "      const a = document.createElement('a');\n",
              "      a.href = window.URL.createObjectURL(blob);\n",
              "      a.download = filename;\n",
              "      div.appendChild(a);\n",
              "      a.click();\n",
              "      div.remove();\n",
              "    }\n",
              "  "
            ]
          },
          "metadata": {}
        },
        {
          "output_type": "display_data",
          "data": {
            "text/plain": [
              "<IPython.core.display.Javascript object>"
            ],
            "application/javascript": [
              "download(\"download_18fe4290-8b06-409b-9c36-f50ac56b8b0a\", \"mnist_model.h5\", 8159832)"
            ]
          },
          "metadata": {}
        }
      ]
    }
  ]
}